{
 "cells": [
  {
   "cell_type": "code",
   "execution_count": 5,
   "metadata": {},
   "outputs": [
    {
     "name": "stdout",
     "output_type": "stream",
     "text": [
      "accuracy:  0.5913978494623656\n",
      "cross validate score:  {'fit_time': array([0.01712513, 0.02050185, 0.01797485]), 'score_time': array([0.00234509, 0.01550388, 0.00301957]), 'test_score': array([0.62365591, 0.60215054, 0.55434783])}\n"
     ]
    }
   ],
   "source": [
    "import pandas as pd\n",
    "import numpy as np\n",
    "from sklearn.naive_bayes import MultinomialNB\n",
    "from sklearn.model_selection import train_test_split\n",
    "from sklearn.preprocessing import MinMaxScaler\n",
    "from sklearn.pipeline import Pipeline\n",
    "from sklearn.metrics import accuracy_score\n",
    "from sklearn.model_selection import cross_val_score\n",
    "from sklearn.model_selection import cross_validate\n",
    "\n",
    "df = pd.read_csv(\"data/npf_train.csv\")\n",
    "\n",
    "\n",
    "df[\"event\"], _ = pd.factorize(df[\"class4\"])\n",
    "df = df.drop([\"class4\", \"partlybad\"], axis = 1)\n",
    "y = df[\"event\"].values\n",
    "\n",
    "#Remove columns that we don't want to use.\n",
    "columns = df.columns.values.tolist()\n",
    "remove = [\"id\", \"date\", \"event\"]\n",
    "columns = [column for column in columns if column not in remove]\n",
    "\n",
    "df = df[columns].apply(pd.to_numeric, errors='coerce')\n",
    "df\n",
    "#df = pd.to_numeric(df)\n",
    "#df = df.apply(lambda x: abs(x))\n",
    "\n",
    "#print(columns)\n",
    "\n",
    "#for column in columns:\n",
    "    #negative = df[column] < 0\n",
    "    #if any(negative.values.tolist()):\n",
    "        #remove.append(column)\n",
    "\n",
    "#print(columns)\n",
    "\n",
    "model = Pipeline([\n",
    "    ('minmax', MinMaxScaler()),\n",
    "    ('model', MultinomialNB()),\n",
    "])\n",
    "\n",
    "X = df[columns].values\n",
    "\n",
    "X, X_test, y, y_test = train_test_split(X, y, test_size = 0.2, random_state = 42)\n",
    "X_train, X_validate, y_train, y_validate = train_test_split(X, y, train_size= 0.75, random_state= 42)\n",
    "\n",
    "model.fit(X_train, y_train)\n",
    "\n",
    "y_pred = model.predict(X_validate)\n",
    "\n",
    "print(\"accuracy: \", accuracy_score(y_validate, y_pred))\n",
    "print(\"cross validate score: \", cross_validate(model, X_train, y_train, cv = 3))"
   ]
  }
 ],
 "metadata": {
  "kernelspec": {
   "display_name": "Python 3.9.12 ('base')",
   "language": "python",
   "name": "python3"
  },
  "language_info": {
   "codemirror_mode": {
    "name": "ipython",
    "version": 3
   },
   "file_extension": ".py",
   "mimetype": "text/x-python",
   "name": "python",
   "nbconvert_exporter": "python",
   "pygments_lexer": "ipython3",
   "version": "3.9.12"
  },
  "orig_nbformat": 4,
  "vscode": {
   "interpreter": {
    "hash": "990c85b3dd8660dc63904ee3af817ceb52b8453d0f6531cbe1e62b0666352140"
   }
  }
 },
 "nbformat": 4,
 "nbformat_minor": 2
}

{
 "cells": [
  {
   "cell_type": "code",
   "execution_count": 21,
   "metadata": {},
   "outputs": [
    {
     "name": "stdout",
     "output_type": "stream",
     "text": [
      "100\n",
      "10000\n",
      "accuracy:  0.5698924731182796\n",
      "cross validate score:  {'fit_time': array([0.28724742, 0.29282403, 0.30543733]), 'score_time': array([0.09474921, 0.08274698, 0.08378005]), 'test_score': array([0.65591398, 0.55913978, 0.52173913])}\n"
     ]
    }
   ],
   "source": [
    "import pandas as pd\n",
    "import numpy as np\n",
    "from sklearn.naive_bayes import MultinomialNB\n",
    "from sklearn.model_selection import train_test_split\n",
    "from sklearn.preprocessing import MinMaxScaler\n",
    "from sklearn.pipeline import Pipeline\n",
    "from sklearn.metrics import accuracy_score\n",
    "from sklearn.model_selection import cross_val_score\n",
    "from sklearn.model_selection import cross_validate\n",
    "from itertools import product\n",
    "\n",
    "df = pd.read_csv(\"data/npf_train.csv\")\n",
    "\n",
    "\n",
    "df[\"event\"], _ = pd.factorize(df[\"class4\"])\n",
    "df = df.drop([\"class4\", \"partlybad\"], axis = 1)\n",
    "y = df[\"event\"].values\n",
    "\n",
    "#Remove columns that we don't want to use.\n",
    "columns = df.columns.values.tolist()\n",
    "remove = [\"id\", \"date\", \"event\"]\n",
    "columns = [column for column in columns if column not in remove]\n",
    "\n",
    "df = df[columns].apply(pd.to_numeric, errors='coerce')\n",
    "\n",
    "df_pairs = pd.DataFrame(columns = np.arange(10000), index= np.arange(df.shape[0]))\n",
    "\n",
    "def pairs(row):\n",
    "    return [(x[0] * x[1]) for x in product(row, repeat= 2)]\n",
    "\n",
    "for index, row in df.iterrows():\n",
    "    df_pairs.iloc[index, 0:10000] = pairs(row)\n",
    "\n",
    "\n",
    "\n",
    "row = pairs(df.iloc[0].values)\n",
    "print(len(df.iloc[0].values))\n",
    "print(len(row))\n",
    "df_pairs\n",
    "\n",
    "model = Pipeline([\n",
    "    ('minmax', MinMaxScaler()),\n",
    "    ('model', MultinomialNB()),\n",
    "])\n",
    "\n",
    "X = df_pairs.values\n",
    "\n",
    "X, X_test, y, y_test = train_test_split(X, y, test_size = 0.2, random_state = 42)\n",
    "X_train, X_validate, y_train, y_validate = train_test_split(X, y, train_size= 0.75, random_state= 42)\n",
    "\n",
    "model.fit(X_train, y_train)\n",
    "\n",
    "y_pred = model.predict(X_validate)\n",
    "\n",
    "print(\"accuracy: \", accuracy_score(y_validate, y_pred))\n",
    "print(\"cross validate score: \", cross_validate(model, X_train, y_train, cv = 3))"
   ]
  }
 ],
 "metadata": {
  "kernelspec": {
   "display_name": "Python 3.9.12 ('base')",
   "language": "python",
   "name": "python3"
  },
  "language_info": {
   "codemirror_mode": {
    "name": "ipython",
    "version": 3
   },
   "file_extension": ".py",
   "mimetype": "text/x-python",
   "name": "python",
   "nbconvert_exporter": "python",
   "pygments_lexer": "ipython3",
   "version": "3.9.12"
  },
  "orig_nbformat": 4,
  "vscode": {
   "interpreter": {
    "hash": "990c85b3dd8660dc63904ee3af817ceb52b8453d0f6531cbe1e62b0666352140"
   }
  }
 },
 "nbformat": 4,
 "nbformat_minor": 2
}

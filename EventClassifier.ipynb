{
 "cells": [
  {
   "cell_type": "code",
   "execution_count": null,
   "id": "a6620ad2",
   "metadata": {},
   "outputs": [
    {
     "name": "stdout",
     "output_type": "stream",
     "text": [
      "Hello\n"
     ]
    }
   ],
   "source": [
    "import pandas as pd\n",
    "import numpy as np\n",
    "from sklearn.naive_bayes import MultinomialNB\n",
    "from sklearn.model_selection import train_test_split\n",
    "\n",
    "df = pd.read_csv(\"npf_train.csv\")\n",
    "\n",
    "df[\"event\"] = df[\"class4\"] != \"nonevent\"\n",
    "df = df.drop([\"class4\"], axis = 1)\n",
    "y = df[\"event\"].values\n",
    "\n",
    "\n",
    "\n",
    "#Remove columns that we don't want to use.\n",
    "columns = df.columns.values.tolist()\n",
    "remove = [\"id\", \"date\", \"event\"]\n",
    "columns = [column for column in columns if column not in remove]\n",
    "\n",
    "X = df[columns].values\n",
    "\n",
    "\n",
    "model = MultinomialNB(min)\n",
    "\n",
    "X, X_test, y, y_test = train_test_split(X, y, test_size = 0.2)\n",
    "X_train, X_validate, y_train, y_validate = train_test_split(X, y, train_size= 0.75)\n",
    "\n",
    "model.fit(X_train, y_train)"
   ]
  }
 ],
 "metadata": {
  "kernelspec": {
   "display_name": "Python 3.9.12 ('base')",
   "language": "python",
   "name": "python3"
  },
  "language_info": {
   "codemirror_mode": {
    "name": "ipython",
    "version": 3
   },
   "file_extension": ".py",
   "mimetype": "text/x-python",
   "name": "python",
   "nbconvert_exporter": "python",
   "pygments_lexer": "ipython3",
   "version": "3.9.12"
  },
  "vscode": {
   "interpreter": {
    "hash": "990c85b3dd8660dc63904ee3af817ceb52b8453d0f6531cbe1e62b0666352140"
   }
  }
 },
 "nbformat": 4,
 "nbformat_minor": 5
}

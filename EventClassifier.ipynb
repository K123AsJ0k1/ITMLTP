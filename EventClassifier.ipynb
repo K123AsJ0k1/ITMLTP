{
 "cells": [
  {
   "cell_type": "code",
   "execution_count": 10,
   "id": "a6620ad2",
   "metadata": {},
   "outputs": [
    {
     "name": "stderr",
     "output_type": "stream",
     "text": [
      "<>:36: SyntaxWarning: 'ellipsis' object is not callable; perhaps you missed a comma?\n",
      "<>:37: SyntaxWarning: 'ellipsis' object is not callable; perhaps you missed a comma?\n",
      "<>:36: SyntaxWarning: 'ellipsis' object is not callable; perhaps you missed a comma?\n",
      "<>:37: SyntaxWarning: 'ellipsis' object is not callable; perhaps you missed a comma?\n",
      "C:\\Users\\Rasmus Marjoranta\\AppData\\Local\\Temp\\ipykernel_24316\\3786446610.py:36: SyntaxWarning: 'ellipsis' object is not callable; perhaps you missed a comma?\n",
      "  ...     ('minmax', MinMaxScaler()),\n",
      "C:\\Users\\Rasmus Marjoranta\\AppData\\Local\\Temp\\ipykernel_24316\\3786446610.py:37: SyntaxWarning: 'ellipsis' object is not callable; perhaps you missed a comma?\n",
      "  ...     ('model', MultinomialNB()),\n",
      "C:\\Users\\Rasmus Marjoranta\\AppData\\Local\\Temp\\ipykernel_24316\\3786446610.py:36: SyntaxWarning: 'ellipsis' object is not callable; perhaps you missed a comma?\n",
      "  ...     ('minmax', MinMaxScaler()),\n",
      "C:\\Users\\Rasmus Marjoranta\\AppData\\Local\\Temp\\ipykernel_24316\\3786446610.py:37: SyntaxWarning: 'ellipsis' object is not callable; perhaps you missed a comma?\n",
      "  ...     ('model', MultinomialNB()),\n",
      "C:\\Users\\Rasmus Marjoranta\\AppData\\Local\\Temp\\ipykernel_24316\\3786446610.py:36: SyntaxWarning: 'ellipsis' object is not callable; perhaps you missed a comma?\n",
      "  ...     ('minmax', MinMaxScaler()),\n",
      "C:\\Users\\Rasmus Marjoranta\\AppData\\Local\\Temp\\ipykernel_24316\\3786446610.py:37: SyntaxWarning: 'ellipsis' object is not callable; perhaps you missed a comma?\n",
      "  ...     ('model', MultinomialNB()),\n",
      "C:\\Users\\Rasmus Marjoranta\\AppData\\Local\\Temp\\ipykernel_24316\\3786446610.py:36: SyntaxWarning: 'ellipsis' object is not callable; perhaps you missed a comma?\n",
      "  ...     ('minmax', MinMaxScaler()),\n",
      "C:\\Users\\Rasmus Marjoranta\\AppData\\Local\\Temp\\ipykernel_24316\\3786446610.py:37: SyntaxWarning: 'ellipsis' object is not callable; perhaps you missed a comma?\n",
      "  ...     ('model', MultinomialNB()),\n",
      "C:\\Users\\Rasmus Marjoranta\\AppData\\Local\\Temp\\ipykernel_24316\\3786446610.py:36: SyntaxWarning: 'ellipsis' object is not callable; perhaps you missed a comma?\n",
      "  ...     ('minmax', MinMaxScaler()),\n",
      "C:\\Users\\Rasmus Marjoranta\\AppData\\Local\\Temp\\ipykernel_24316\\3786446610.py:37: SyntaxWarning: 'ellipsis' object is not callable; perhaps you missed a comma?\n",
      "  ...     ('model', MultinomialNB()),\n",
      "C:\\Users\\Rasmus Marjoranta\\AppData\\Local\\Temp\\ipykernel_24316\\3786446610.py:36: SyntaxWarning: 'ellipsis' object is not callable; perhaps you missed a comma?\n",
      "  ...     ('minmax', MinMaxScaler()),\n",
      "C:\\Users\\Rasmus Marjoranta\\AppData\\Local\\Temp\\ipykernel_24316\\3786446610.py:37: SyntaxWarning: 'ellipsis' object is not callable; perhaps you missed a comma?\n",
      "  ...     ('model', MultinomialNB()),\n",
      "C:\\Users\\Rasmus Marjoranta\\AppData\\Local\\Temp\\ipykernel_24316\\3786446610.py:36: SyntaxWarning: 'ellipsis' object is not callable; perhaps you missed a comma?\n",
      "  ...     ('minmax', MinMaxScaler()),\n",
      "C:\\Users\\Rasmus Marjoranta\\AppData\\Local\\Temp\\ipykernel_24316\\3786446610.py:37: SyntaxWarning: 'ellipsis' object is not callable; perhaps you missed a comma?\n",
      "  ...     ('model', MultinomialNB()),\n"
     ]
    },
    {
     "ename": "TypeError",
     "evalue": "'ellipsis' object is not callable",
     "output_type": "error",
     "traceback": [
      "\u001b[1;31m---------------------------------------------------------------------------\u001b[0m",
      "\u001b[1;31mTypeError\u001b[0m                                 Traceback (most recent call last)",
      "\u001b[1;32mc:\\Users\\Rasmus Marjoranta\\ITMLTP\\EventClassifier.ipynb Cell 1\u001b[0m in \u001b[0;36m<cell line: 35>\u001b[1;34m()\u001b[0m\n\u001b[0;32m     <a href='vscode-notebook-cell:/c%3A/Users/Rasmus%20Marjoranta/ITMLTP/EventClassifier.ipynb#W0sZmlsZQ%3D%3D?line=20'>21</a>\u001b[0m df \u001b[39m=\u001b[39m df[columns]\u001b[39m.\u001b[39mapply(pd\u001b[39m.\u001b[39mto_numeric, errors\u001b[39m=\u001b[39m\u001b[39m'\u001b[39m\u001b[39mcoerce\u001b[39m\u001b[39m'\u001b[39m)\n\u001b[0;32m     <a href='vscode-notebook-cell:/c%3A/Users/Rasmus%20Marjoranta/ITMLTP/EventClassifier.ipynb#W0sZmlsZQ%3D%3D?line=22'>23</a>\u001b[0m \u001b[39m#df = pd.to_numeric(df)\u001b[39;00m\n\u001b[0;32m     <a href='vscode-notebook-cell:/c%3A/Users/Rasmus%20Marjoranta/ITMLTP/EventClassifier.ipynb#W0sZmlsZQ%3D%3D?line=23'>24</a>\u001b[0m \u001b[39m#df = df.apply(lambda x: abs(x))\u001b[39;00m\n\u001b[0;32m     <a href='vscode-notebook-cell:/c%3A/Users/Rasmus%20Marjoranta/ITMLTP/EventClassifier.ipynb#W0sZmlsZQ%3D%3D?line=24'>25</a>\u001b[0m \n\u001b[1;32m   (...)\u001b[0m\n\u001b[0;32m     <a href='vscode-notebook-cell:/c%3A/Users/Rasmus%20Marjoranta/ITMLTP/EventClassifier.ipynb#W0sZmlsZQ%3D%3D?line=31'>32</a>\u001b[0m \n\u001b[0;32m     <a href='vscode-notebook-cell:/c%3A/Users/Rasmus%20Marjoranta/ITMLTP/EventClassifier.ipynb#W0sZmlsZQ%3D%3D?line=32'>33</a>\u001b[0m \u001b[39m#print(columns)\u001b[39;00m\n\u001b[0;32m     <a href='vscode-notebook-cell:/c%3A/Users/Rasmus%20Marjoranta/ITMLTP/EventClassifier.ipynb#W0sZmlsZQ%3D%3D?line=34'>35</a>\u001b[0m pipeline \u001b[39m=\u001b[39m Pipeline([\n\u001b[1;32m---> <a href='vscode-notebook-cell:/c%3A/Users/Rasmus%20Marjoranta/ITMLTP/EventClassifier.ipynb#W0sZmlsZQ%3D%3D?line=35'>36</a>\u001b[0m \u001b[39m.\u001b[39;49m\u001b[39m.\u001b[39;49m\u001b[39m.\u001b[39;49m     (\u001b[39m'\u001b[39;49m\u001b[39mminmax\u001b[39;49m\u001b[39m'\u001b[39;49m, MinMaxScaler()),\n\u001b[0;32m     <a href='vscode-notebook-cell:/c%3A/Users/Rasmus%20Marjoranta/ITMLTP/EventClassifier.ipynb#W0sZmlsZQ%3D%3D?line=36'>37</a>\u001b[0m \u001b[39m.\u001b[39m\u001b[39m.\u001b[39m\u001b[39m.\u001b[39m     (\u001b[39m'\u001b[39m\u001b[39mmodel\u001b[39m\u001b[39m'\u001b[39m, MultinomialNB()),\n\u001b[0;32m     <a href='vscode-notebook-cell:/c%3A/Users/Rasmus%20Marjoranta/ITMLTP/EventClassifier.ipynb#W0sZmlsZQ%3D%3D?line=37'>38</a>\u001b[0m \u001b[39m.\u001b[39m\u001b[39m.\u001b[39m\u001b[39m.\u001b[39m ])\n",
      "\u001b[1;31mTypeError\u001b[0m: 'ellipsis' object is not callable"
     ]
    }
   ],
   "source": [
    "import pandas as pd\n",
    "import numpy as np\n",
    "from sklearn.naive_bayes import MultinomialNB\n",
    "from sklearn.model_selection import train_test_split\n",
    "from sklearn.preprocessing import MinMaxScaler\n",
    "from sklearn.pipeline import Pipeline\n",
    "\n",
    "df = pd.read_csv(\"data/npf_train.csv\")\n",
    "\n",
    "df[\"event\"] = df[\"class4\"] != \"nonevent\"\n",
    "df = df.drop([\"class4\"], axis = 1)\n",
    "y = df[\"event\"].values\n",
    "\n",
    "\n",
    "\n",
    "#Remove columns that we don't want to use.\n",
    "columns = df.columns.values.tolist()\n",
    "remove = [\"id\", \"date\", \"event\"]\n",
    "columns = [column for column in columns if column not in remove]\n",
    "\n",
    "df = df[columns].apply(pd.to_numeric, errors='coerce')\n",
    "\n",
    "#df = pd.to_numeric(df)\n",
    "#df = df.apply(lambda x: abs(x))\n",
    "\n",
    "#print(columns)\n",
    "\n",
    "#for column in columns:\n",
    "    #negative = df[column] < 0\n",
    "    #if any(negative.values.tolist()):\n",
    "        #remove.append(column)\n",
    "\n",
    "#print(columns)\n",
    "\n",
    "pipeline = Pipeline([\n",
    "    ('minmax', MinMaxScaler()),\n",
    "    ('model', MultinomialNB()),\n",
    "])\n",
    "\n",
    "#X = df[columns].values\n",
    "#model = MultinomialNB()\n",
    "\n",
    "#X, X_test, y, y_test = train_test_split(X, y, test_size = 0.2)\n",
    "#X_train, X_validate, y_train, y_validate = train_test_split(X, y, train_size= 0.75)\n",
    "\n",
    "#model.fit(X_train, y_train)"
   ]
  }
 ],
 "metadata": {
  "kernelspec": {
   "display_name": "Python 3.9.12 ('base')",
   "language": "python",
   "name": "python3"
  },
  "language_info": {
   "codemirror_mode": {
    "name": "ipython",
    "version": 3
   },
   "file_extension": ".py",
   "mimetype": "text/x-python",
   "name": "python",
   "nbconvert_exporter": "python",
   "pygments_lexer": "ipython3",
   "version": "3.9.12"
  },
  "vscode": {
   "interpreter": {
    "hash": "990c85b3dd8660dc63904ee3af817ceb52b8453d0f6531cbe1e62b0666352140"
   }
  }
 },
 "nbformat": 4,
 "nbformat_minor": 5
}

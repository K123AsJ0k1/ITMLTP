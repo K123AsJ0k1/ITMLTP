{
 "cells": [
  {
   "cell_type": "code",
   "execution_count": 18,
   "id": "a6620ad2",
   "metadata": {},
   "outputs": [
    {
     "name": "stdout",
     "output_type": "stream",
     "text": [
      "accuracy:  0.9032258064516129\n",
      "cross validate score:  {'fit_time': array([0.00941014, 0.00879645, 0.01307154]), 'score_time': array([0.00423336, 0.00270104, 0.00200295]), 'test_score': array([0.80645161, 0.82795699, 0.80434783])}\n"
     ]
    }
   ],
   "source": [
    "import pandas as pd\n",
    "import numpy as np\n",
    "from sklearn.naive_bayes import MultinomialNB\n",
    "from sklearn.model_selection import train_test_split\n",
    "from sklearn.preprocessing import MinMaxScaler\n",
    "from sklearn.pipeline import Pipeline\n",
    "from sklearn.metrics import accuracy_score\n",
    "from sklearn.model_selection import cross_val_score\n",
    "from sklearn.model_selection import cross_validate\n",
    "\n",
    "df = pd.read_csv(\"data/npf_train.csv\")\n",
    "\n",
    "df[\"event\"] = df[\"class4\"] != \"nonevent\"\n",
    "df = df.drop([\"class4\"], axis = 1)\n",
    "y = df[\"event\"].values\n",
    "\n",
    "\n",
    "\n",
    "#Remove columns that we don't want to use.\n",
    "columns = df.columns.values.tolist()\n",
    "remove = [\"id\", \"date\", \"event\"]\n",
    "columns = [column for column in columns if column not in remove]\n",
    "\n",
    "df = df[columns].apply(pd.to_numeric, errors='coerce')\n",
    "\n",
    "#df = pd.to_numeric(df)\n",
    "#df = df.apply(lambda x: abs(x))\n",
    "\n",
    "#print(columns)\n",
    "\n",
    "#for column in columns:\n",
    "    #negative = df[column] < 0\n",
    "    #if any(negative.values.tolist()):\n",
    "        #remove.append(column)\n",
    "\n",
    "#print(columns)\n",
    "\n",
    "model = Pipeline([\n",
    "    ('minmax', MinMaxScaler()),\n",
    "    ('model', MultinomialNB()),\n",
    "])\n",
    "\n",
    "X = df[columns].values\n",
    "\n",
    "X, X_test, y, y_test = train_test_split(X, y, test_size = 0.2, random_state = 42)\n",
    "X_train, X_validate, y_train, y_validate = train_test_split(X, y, train_size= 0.75, random_state= 42)\n",
    "\n",
    "model.fit(X_train, y_train)\n",
    "\n",
    "y_pred = model.predict(X_validate)\n",
    "\n",
    "print(\"accuracy: \", accuracy_score(y_validate, y_pred))\n",
    "print(\"cross validate score: \", cross_validate(model, X_train, y_train, cv = 3))"
   ]
  }
 ],
 "metadata": {
  "kernelspec": {
   "display_name": "Python 3.9.12 ('base')",
   "language": "python",
   "name": "python3"
  },
  "language_info": {
   "codemirror_mode": {
    "name": "ipython",
    "version": 3
   },
   "file_extension": ".py",
   "mimetype": "text/x-python",
   "name": "python",
   "nbconvert_exporter": "python",
   "pygments_lexer": "ipython3",
   "version": "3.9.12"
  },
  "vscode": {
   "interpreter": {
    "hash": "990c85b3dd8660dc63904ee3af817ceb52b8453d0f6531cbe1e62b0666352140"
   }
  }
 },
 "nbformat": 4,
 "nbformat_minor": 5
}
